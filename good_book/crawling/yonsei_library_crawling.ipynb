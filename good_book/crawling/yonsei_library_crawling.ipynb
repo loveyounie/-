{
 "cells": [
  {
   "cell_type": "code",
   "execution_count": 1,
   "metadata": {},
   "outputs": [],
   "source": [
    "import selenium\n",
    "from selenium import webdriver\n",
    "from selenium.webdriver import ActionChains\n",
    "\n",
    "from selenium.webdriver.common.keys import Keys\n",
    "from selenium.webdriver.common.by import By\n",
    "\n",
    "from selenium.webdriver.support import expected_conditions as EC\n",
    "from selenium.webdriver.support.ui import Select\n",
    "from selenium.webdriver.support.ui import WebDriverWait"
   ]
  },
  {
   "cell_type": "markdown",
   "metadata": {},
   "source": [
    "#### 지정도서 크롤링"
   ]
  },
  {
   "cell_type": "code",
   "execution_count": 2,
   "metadata": {},
   "outputs": [],
   "source": [
    "#접속\n",
    "options = webdriver.ChromeOptions()\n",
    "options.add_argument('--no-sandbox')\n",
    "options.add_argument('--disable-dev-shm-usage')\n",
    "driver = webdriver.Chrome(options=options)\n",
    "\n",
    "base_url = \"https://library.yonsei.ac.kr/coursereserves/search/list?pn=\""
   ]
  },
  {
   "cell_type": "code",
   "execution_count": 4,
   "metadata": {},
   "outputs": [
    {
     "name": "stderr",
     "output_type": "stream",
     "text": [
      "100%|██████████| 137/137 [02:01<00:00,  1.12it/s]\n"
     ]
    }
   ],
   "source": [
    "#크롤링\n",
    "#소요 시간: 2m\n",
    "\n",
    "from tqdm import tqdm\n",
    "\n",
    "data = []\n",
    "\n",
    "for i in tqdm(range(1, 138)):\n",
    "    url = base_url + str(i)\n",
    "    driver.get(url=url)\n",
    "    \n",
    "    table_rows = driver.find_elements(By.CSS_SELECTOR, 'tbody tr')\n",
    "\n",
    "    for row in table_rows:\n",
    "        subject = row.find_element(By.CSS_SELECTOR, 'td.subject').text\n",
    "        title_element = row.find_element(By.CSS_SELECTOR, 'td.title a')\n",
    "        title = title_element.text\n",
    "        link = title_element.get_attribute('href')\n",
    "        \n",
    "        data.append({\n",
    "            'subject': subject,\n",
    "            'title': title,\n",
    "            'link': link\n",
    "        })\n",
    "\n",
    "driver.quit()"
   ]
  },
  {
   "cell_type": "code",
   "execution_count": 6,
   "metadata": {},
   "outputs": [],
   "source": [
    "import pandas as pd\n",
    "df = pd.DataFrame(data)\n",
    "df.to_csv('../지정도서.csv')"
   ]
  },
  {
   "cell_type": "markdown",
   "metadata": {},
   "source": [
    "#### 대출 통계 크롤링"
   ]
  },
  {
   "cell_type": "code",
   "execution_count": 16,
   "metadata": {},
   "outputs": [],
   "source": [
    "#접속\n",
    "options = webdriver.ChromeOptions()\n",
    "options.add_argument('--no-sandbox')\n",
    "options.add_argument('--disable-dev-shm-usage')\n",
    "driver = webdriver.Chrome(options=options)\n",
    "\n",
    "base_url = \"https://library.yonsei.ac.kr/statistics/favorLoan?category=\""
   ]
  },
  {
   "cell_type": "code",
   "execution_count": 17,
   "metadata": {},
   "outputs": [
    {
     "name": "stderr",
     "output_type": "stream",
     "text": [
      "100%|██████████| 9/9 [01:00<00:00,  6.67s/it]\n"
     ]
    }
   ],
   "source": [
    "#크롤링\n",
    "#소요 시간: 1m\n",
    "\n",
    "books = []    \n",
    "for m in tqdm(range (100, 1000, 100)):\n",
    "    url = base_url + str(m)\n",
    "    driver.get(url=url)\n",
    "    \n",
    "    rows = driver.find_elements(By.CSS_SELECTOR, 'tbody tr')\n",
    "    for row in rows:\n",
    "        title_element = row.find_element(By.CLASS_NAME, 'title').find_element(By.TAG_NAME, 'a')\n",
    "        title = title_element.get_attribute('title')\n",
    "        author = row.find_element(By.CLASS_NAME, 'author').text\n",
    "        link = title_element.get_attribute('href')\n",
    "        publisher = row.find_element(By.CLASS_NAME, 'publisher').text\n",
    "        year = row.find_element(By.CLASS_NAME, 'publisher_year').text\n",
    "        books.append({\n",
    "            '주류': m,\n",
    "            '제목': title,\n",
    "            '저자': author,\n",
    "            '링크':link,\n",
    "            '출판사': publisher,\n",
    "            '출판 연도': year\n",
    "        })\n",
    "driver.quit()"
   ]
  },
  {
   "cell_type": "code",
   "execution_count": 18,
   "metadata": {},
   "outputs": [],
   "source": [
    "df = pd.DataFrame(books)\n",
    "df.to_csv('../대출통계.csv')"
   ]
  }
 ],
 "metadata": {
  "kernelspec": {
   "display_name": "Python 3",
   "language": "python",
   "name": "python3"
  },
  "language_info": {
   "codemirror_mode": {
    "name": "ipython",
    "version": 3
   },
   "file_extension": ".py",
   "mimetype": "text/x-python",
   "name": "python",
   "nbconvert_exporter": "python",
   "pygments_lexer": "ipython3",
   "version": "3.11.3"
  }
 },
 "nbformat": 4,
 "nbformat_minor": 2
}
